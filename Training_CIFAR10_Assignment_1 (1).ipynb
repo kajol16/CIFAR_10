{
  "nbformat": 4,
  "nbformat_minor": 0,
  "metadata": {
    "colab": {
      "name": "Training_CIFAR10_Assignment_1",
      "provenance": [],
      "collapsed_sections": []
    },
    "kernelspec": {
      "name": "python3",
      "display_name": "Python 3"
    },
    "language_info": {
      "name": "python"
    },
    "accelerator": "GPU"
  },
  "cells": [
    {
      "cell_type": "markdown",
      "metadata": {
        "id": "8DeBraeFdoTF"
      },
      "source": [
        "Installing ipython-autotime to keep everything timed."
      ]
    },
    {
      "cell_type": "code",
      "metadata": {
        "colab": {
          "base_uri": "https://localhost:8080/"
        },
        "id": "sm2us06gQ6NX",
        "outputId": "884f92a3-580f-4a9e-f361-d5a7f0f2b2f7"
      },
      "source": [
        "!pip install ipython-autotime\n",
        "\n",
        "%load_ext autotime"
      ],
      "execution_count": null,
      "outputs": [
        {
          "output_type": "stream",
          "text": [
            "Requirement already satisfied: ipython-autotime in /usr/local/lib/python3.7/dist-packages (0.3.1)\n",
            "Requirement already satisfied: ipython in /usr/local/lib/python3.7/dist-packages (from ipython-autotime) (5.5.0)\n",
            "Requirement already satisfied: decorator in /usr/local/lib/python3.7/dist-packages (from ipython->ipython-autotime) (4.4.2)\n",
            "Requirement already satisfied: setuptools>=18.5 in /usr/local/lib/python3.7/dist-packages (from ipython->ipython-autotime) (54.2.0)\n",
            "Requirement already satisfied: simplegeneric>0.8 in /usr/local/lib/python3.7/dist-packages (from ipython->ipython-autotime) (0.8.1)\n",
            "Requirement already satisfied: pickleshare in /usr/local/lib/python3.7/dist-packages (from ipython->ipython-autotime) (0.7.5)\n",
            "Requirement already satisfied: traitlets>=4.2 in /usr/local/lib/python3.7/dist-packages (from ipython->ipython-autotime) (5.0.5)\n",
            "Requirement already satisfied: pexpect; sys_platform != \"win32\" in /usr/local/lib/python3.7/dist-packages (from ipython->ipython-autotime) (4.8.0)\n",
            "Requirement already satisfied: pygments in /usr/local/lib/python3.7/dist-packages (from ipython->ipython-autotime) (2.6.1)\n",
            "Requirement already satisfied: prompt-toolkit<2.0.0,>=1.0.4 in /usr/local/lib/python3.7/dist-packages (from ipython->ipython-autotime) (1.0.18)\n",
            "Requirement already satisfied: ipython-genutils in /usr/local/lib/python3.7/dist-packages (from traitlets>=4.2->ipython->ipython-autotime) (0.2.0)\n",
            "Requirement already satisfied: ptyprocess>=0.5 in /usr/local/lib/python3.7/dist-packages (from pexpect; sys_platform != \"win32\"->ipython->ipython-autotime) (0.7.0)\n",
            "Requirement already satisfied: wcwidth in /usr/local/lib/python3.7/dist-packages (from prompt-toolkit<2.0.0,>=1.0.4->ipython->ipython-autotime) (0.2.5)\n",
            "Requirement already satisfied: six>=1.9.0 in /usr/local/lib/python3.7/dist-packages (from prompt-toolkit<2.0.0,>=1.0.4->ipython->ipython-autotime) (1.15.0)\n",
            "The autotime extension is already loaded. To reload it, use:\n",
            "  %reload_ext autotime\n",
            "time: 2.25 s (started: 2021-03-31 01:58:25 +00:00)\n"
          ],
          "name": "stdout"
        }
      ]
    },
    {
      "cell_type": "markdown",
      "metadata": {
        "id": "X-fLZqYueld-"
      },
      "source": [
        "Loading and normalizing CIFAR10,\n",
        "We are using torchvision to load CIFAR-10.\n",
        "The output of torchvision datasets are PILImage images of range [0, 1]. We transform them to Tensors of normalized range [-1, 1]."
      ]
    },
    {
      "cell_type": "code",
      "metadata": {
        "colab": {
          "base_uri": "https://localhost:8080/"
        },
        "id": "pQNW3WtNttRL",
        "outputId": "875e6b3c-0a47-4abe-df50-cf190497ad44"
      },
      "source": [
        "import torch\n",
        "import torchvision\n",
        "import torchvision.transforms as transforms\n",
        "from torch.utils.data.sampler import SubsetRandomSampler\n",
        "\n",
        "#Samples to be loaded for each batch\n",
        "batch = 20\n",
        "\n",
        "# number of subprocesses to use for data loading\n",
        "number_subprocess = 0\n",
        "\n",
        "# percentage of training set to use as validation\n",
        "validation_set_size = 0.20\n",
        "\n",
        "transform = transforms.Compose([transforms.ToTensor(),transforms.\n",
        "                                Normalize((0.5, 0.5, 0.5), (0.5, 0.5, 0.5))])\n",
        "#Training data set\n",
        "trainset = torchvision.datasets.CIFAR10('data', train=True, \n",
        "                                        download=True, transform=transform)\n",
        "#Test data set\n",
        "testset = torchvision.datasets.CIFAR10('data', train=False, download=True, \n",
        "                                       transform=transform)\n",
        "\n",
        "#indexes to be used for validation set\n",
        "num_training = len(trainset)\n",
        "indices = list(range(num_training))\n",
        "np.random.shuffle(indices)\n",
        "split = int(np.floor(validation_set_size * num_training))\n",
        "train_index, valid_index = indices[split:], indices[:split]\n",
        "\n",
        "# Obtaining training and validation batches\n",
        "training_sampler = SubsetRandomSampler(train_index)\n",
        "validation_sampler = SubsetRandomSampler(valid_index)\n",
        "\n",
        "#train_loader\n",
        "trainloader = torch.utils.data.DataLoader\n",
        "(trainset, batch_size=batch, \n",
        "                      sampler=training_sampler, num_workers=number_subprocess)\n",
        "#validation Loader\n",
        "validation_loader = torch.utils.data.DataLoader\n",
        "(trainset, batch_size=batch, sampler=validation_sampler, \n",
        " num_workers=number_subprocess)\n",
        "#Test Loader\n",
        "\n",
        "testloader = torch.utils.data.DataLoader(\n",
        "    testset, batch_size=batch, \n",
        "                              shuffle=False, num_workers=number_subprocess)\n",
        "\n",
        "classes = ('plane', 'car', 'bird', 'cat', 'deer', 'dog', 'frog', \n",
        "           'horse', 'ship', 'truck')"
      ],
      "execution_count": null,
      "outputs": [
        {
          "output_type": "stream",
          "text": [
            "Files already downloaded and verified\n",
            "Files already downloaded and verified\n",
            "time: 1.6 s (started: 2021-03-31 02:25:17 +00:00)\n"
          ],
          "name": "stdout"
        }
      ]
    },
    {
      "cell_type": "markdown",
      "metadata": {
        "id": "AKdJWw-hfD--"
      },
      "source": [
        "Showing Training Image as an example"
      ]
    },
    {
      "cell_type": "code",
      "metadata": {
        "colab": {
          "base_uri": "https://localhost:8080/",
          "height": 211
        },
        "id": "B6zSIOqlve_J",
        "outputId": "7dee282b-ded6-49a3-e221-173f16057dc2"
      },
      "source": [
        "import matplotlib.pyplot as plt\n",
        "import numpy as np\n",
        "\n",
        "# functions to show an image\n",
        "\n",
        "\n",
        "def imshow(img):\n",
        "    img = img / 2 + 0.5     # unnormalize\n",
        "    npimg = img.numpy()\n",
        "    plt.imshow(np.transpose(npimg, (1, 2, 0)))\n",
        "    plt.show()\n",
        "\n",
        "\n",
        "# get some random training images\n",
        "dataiter = iter(trainloader)\n",
        "images, labels = dataiter.next()\n",
        "\n",
        "# show images\n",
        "imshow(torchvision.utils.make_grid(images))\n",
        "# print labels\n",
        "print(' '.join('%5s' % classes[labels[j]] for j in range(16)))"
      ],
      "execution_count": null,
      "outputs": [
        {
          "output_type": "display_data",
          "data": {
            "image/png": "[encoded data removed]",
            "text/plain": [
              "<Figure size 432x288 with 1 Axes>"
            ]
          },
          "metadata": {
            "tags": [],
            "needs_background": "light"
          }
        },
        {
          "output_type": "stream",
          "text": [
            "  car plane plane  ship  deer   cat  frog   car  deer horse  frog   dog   dog  deer  deer horse\n",
            "time: 196 ms (started: 2021-03-31 02:25:19 +00:00)\n"
          ],
          "name": "stdout"
        }
      ]
    },
    {
      "cell_type": "markdown",
      "metadata": {
        "id": "6qMLra5uv_5f"
      },
      "source": [
        "Define a Convolutional Neural Network"
      ]
    },
    {
      "cell_type": "code",
      "metadata": {
        "id": "UPwYQHTJwFNz",
        "colab": {
          "base_uri": "https://localhost:8080/"
        },
        "outputId": "f119a30d-e90b-4cb8-f6e7-4578c8c5d51c"
      },
      "source": [
        "import torch.nn as nn\n",
        "import torch.nn.functional as F\n",
        "\n",
        "class Net(nn.Module):\n",
        "    def __init__(self):\n",
        "        super().__init__()\n",
        "        self.network = nn.Sequential(\n",
        "            #layer1\n",
        "            nn.Conv2d(3, 32, kernel_size=3, padding=1),\n",
        "            nn.ReLU(),\n",
        "            nn.Conv2d(32, 64, kernel_size=3, stride=1, padding=1),\n",
        "            nn.ReLU(),\n",
        "            nn.MaxPool2d(2, 2), # output: 64 x 16 x 16\n",
        "            #layer2\n",
        "            nn.Conv2d(64, 128, kernel_size=3, stride=1, padding=1),\n",
        "            nn.ReLU(),\n",
        "            nn.Conv2d(128, 128, kernel_size=3, stride=1, padding=1),\n",
        "            nn.ReLU(),\n",
        "            nn.MaxPool2d(2, 2), # output: 128 x 8 x 8\n",
        "            nn.Dropout2d(p=0.05),\n",
        "            #layer3\n",
        "            nn.Conv2d(128, 256, kernel_size=3, stride=1, padding=1),\n",
        "            nn.ReLU(),\n",
        "            nn.Conv2d(256, 256, kernel_size=3, stride=1, padding=1),\n",
        "            nn.ReLU(),\n",
        "            nn.MaxPool2d(2, 2), # output: 256 x 4 x 4\n",
        "\n",
        "            nn.Flatten(), \n",
        "            nn.Linear(256*4*4, 1024),\n",
        "            nn.ReLU(),\n",
        "            nn.Linear(1024, 512),\n",
        "            nn.ReLU(),\n",
        "            nn.Dropout(p=0.1),\n",
        "            nn.Linear(512, 10))\n",
        "        \n",
        "    def forward(self, xb):\n",
        "        return self.network(xb)\n",
        "\n",
        "net = Net()\n",
        "\n",
        "device = torch.device(\"cuda:0\" if torch.cuda.is_available() else \"cpu\")\n",
        "\n",
        "# Assuming that we are on a CUDA machine, this should print a CUDA device:\n",
        "\n",
        "print(device)\n",
        "net.to(device)"
      ],
      "execution_count": null,
      "outputs": [
        {
          "output_type": "stream",
          "text": [
            "cuda:0\n"
          ],
          "name": "stdout"
        },
        {
          "output_type": "execute_result",
          "data": {
            "text/plain": [
              "Net(\n",
              "  (network): Sequential(\n",
              "    (0): Conv2d(3, 32, kernel_size=(3, 3), stride=(1, 1), padding=(1, 1))\n",
              "    (1): ReLU()\n",
              "    (2): Conv2d(32, 64, kernel_size=(3, 3), stride=(1, 1), padding=(1, 1))\n",
              "    (3): ReLU()\n",
              "    (4): MaxPool2d(kernel_size=2, stride=2, padding=0, dilation=1, ceil_mode=False)\n",
              "    (5): Conv2d(64, 128, kernel_size=(3, 3), stride=(1, 1), padding=(1, 1))\n",
              "    (6): ReLU()\n",
              "    (7): Conv2d(128, 128, kernel_size=(3, 3), stride=(1, 1), padding=(1, 1))\n",
              "    (8): ReLU()\n",
              "    (9): MaxPool2d(kernel_size=2, stride=2, padding=0, dilation=1, ceil_mode=False)\n",
              "    (10): Dropout2d(p=0.05, inplace=False)\n",
              "    (11): Conv2d(128, 256, kernel_size=(3, 3), stride=(1, 1), padding=(1, 1))\n",
              "    (12): ReLU()\n",
              "    (13): Conv2d(256, 256, kernel_size=(3, 3), stride=(1, 1), padding=(1, 1))\n",
              "    (14): ReLU()\n",
              "    (15): MaxPool2d(kernel_size=2, stride=2, padding=0, dilation=1, ceil_mode=False)\n",
              "    (16): Flatten(start_dim=1, end_dim=-1)\n",
              "    (17): Linear(in_features=4096, out_features=1024, bias=True)\n",
              "    (18): ReLU()\n",
              "    (19): Linear(in_features=1024, out_features=512, bias=True)\n",
              "    (20): ReLU()\n",
              "    (21): Dropout(p=0.1, inplace=False)\n",
              "    (22): Linear(in_features=512, out_features=10, bias=True)\n",
              "  )\n",
              ")"
            ]
          },
          "metadata": {
            "tags": []
          },
          "execution_count": 134
        },
        {
          "output_type": "stream",
          "text": [
            "time: 78.8 ms (started: 2021-03-31 03:10:22 +00:00)\n"
          ],
          "name": "stdout"
        }
      ]
    },
    {
      "cell_type": "markdown",
      "metadata": {
        "id": "SATkOIIgwQkA"
      },
      "source": [
        "Define a loss funtion and optimizer"
      ]
    },
    {
      "cell_type": "code",
      "metadata": {
        "id": "HsQ2CM3iwWXn",
        "colab": {
          "base_uri": "https://localhost:8080/"
        },
        "outputId": "0eb66361-e87a-454b-9723-c078461d166b"
      },
      "source": [
        "import torch.optim as optim\n",
        "#Loss_function\n",
        "criterion = nn.CrossEntropyLoss()\n",
        "#Optimizer\n",
        "optimizer = optim.SGD(net.parameters(), lr=0.01)\n"
      ],
      "execution_count": null,
      "outputs": [
        {
          "output_type": "stream",
          "text": [
            "time: 2.1 ms (started: 2021-03-31 03:10:30 +00:00)\n"
          ],
          "name": "stdout"
        }
      ]
    },
    {
      "cell_type": "markdown",
      "metadata": {
        "id": "BCQR8UZCweJl"
      },
      "source": [
        "Train the network"
      ]
    },
    {
      "cell_type": "code",
      "metadata": {
        "colab": {
          "base_uri": "https://localhost:8080/"
        },
        "id": "RCQ3jJtMwiSn",
        "outputId": "77328648-3aeb-47cf-d980-9ba6510e2ec2"
      },
      "source": [
        "#To store minimum value of validation loss\n",
        "Minimun_validation_loss = np.Inf\n",
        "nepochs = [*range(32)]\n",
        "training_losslist = []\n",
        "for epoch in nepochs:  # loop over the dataset multiple times\n",
        "\n",
        "    running_loss = 0.0\n",
        "    training_loss = 0.0\n",
        "    \n",
        "    net.train()\n",
        "    for data, target in (trainloader):\n",
        "        if device:\n",
        "            data, target = data.cuda(), target.cuda()\n",
        "\n",
        "        # zero the parameter gradients\n",
        "        optimizer.zero_grad()\n",
        "\n",
        "        # forward + backward + optimize\n",
        "        outputs = net(data)\n",
        "        loss = criterion(outputs, target)\n",
        "        loss.backward()\n",
        "        optimizer.step()\n",
        "\n",
        "        training_loss += loss.item()*data.size(0)\n",
        "    net.eval()\n",
        "    for data, target in validation_loader:\n",
        "        if device:\n",
        "            data, target = data.cuda(), target.cuda()\n",
        "        outputs = net(data)\n",
        "        # calculate the batch loss\n",
        "        loss = criterion(outputs, target)\n",
        "        # update average validation loss \n",
        "        running_loss += loss.item()*data.size(0)\n",
        "    \n",
        "    # calculate average losses\n",
        "    training_loss = training_loss/len(trainloader.dataset)\n",
        "    running_loss = running_loss/len(validation_loader.dataset)\n",
        "\n",
        "    training_losslist.append(training_loss)\n",
        "        \n",
        "    # print training/validation statistics \n",
        "    print('Epoch: {} \\tTraining Loss: {:.6f} \\tValidation Loss: {:.6f}'.format(\n",
        "        epoch, training_loss, running_loss))\n",
        "    \n",
        "    PATH = './cifar_net.pth'\n",
        "    torch.save(net.state_dict(), PATH)\n",
        "    if running_loss <= Minimun_validation_loss:\n",
        "        print('This is the new minimum validation loss ({:.6f} --> {:.6f}).  '\n",
        "        .format(\n",
        "        Minimun_validation_loss,running_loss))\n",
        "        torch.save(net.state_dict(), PATH)\n",
        "        Minimun_validation_loss = running_loss\n",
        "print('Finished Training')"
      ],
      "execution_count": null,
      "outputs": [
        {
          "output_type": "stream",
          "text": [
            "Epoch: 0 \tTraining Loss: 1.842244 \tValidation Loss: 0.460525\n",
            "This is the new minimum validation loss (inf --> 0.460525).  \n",
            "Epoch: 1 \tTraining Loss: 1.842097 \tValidation Loss: 0.460478\n",
            "This is the new minimum validation loss (0.460525 --> 0.460478).  \n",
            "Epoch: 2 \tTraining Loss: 1.841784 \tValidation Loss: 0.460320\n",
            "This is the new minimum validation loss (0.460478 --> 0.460320).  \n",
            "Epoch: 3 \tTraining Loss: 1.826035 \tValidation Loss: 0.419361\n",
            "This is the new minimum validation loss (0.460320 --> 0.419361).  \n",
            "Epoch: 4 \tTraining Loss: 1.547222 \tValidation Loss: 0.347358\n",
            "This is the new minimum validation loss (0.419361 --> 0.347358).  \n",
            "Epoch: 5 \tTraining Loss: 1.325703 \tValidation Loss: 0.319636\n",
            "This is the new minimum validation loss (0.347358 --> 0.319636).  \n",
            "Epoch: 6 \tTraining Loss: 1.215171 \tValidation Loss: 0.290791\n",
            "This is the new minimum validation loss (0.319636 --> 0.290791).  \n",
            "Epoch: 7 \tTraining Loss: 1.128532 \tValidation Loss: 0.272887\n",
            "This is the new minimum validation loss (0.290791 --> 0.272887).  \n",
            "Epoch: 8 \tTraining Loss: 1.037831 \tValidation Loss: 0.248683\n",
            "This is the new minimum validation loss (0.272887 --> 0.248683).  \n",
            "Epoch: 9 \tTraining Loss: 0.945815 \tValidation Loss: 0.221261\n",
            "This is the new minimum validation loss (0.248683 --> 0.221261).  \n",
            "Epoch: 10 \tTraining Loss: 0.855836 \tValidation Loss: 0.202666\n",
            "This is the new minimum validation loss (0.221261 --> 0.202666).  \n",
            "Epoch: 11 \tTraining Loss: 0.771854 \tValidation Loss: 0.188021\n",
            "This is the new minimum validation loss (0.202666 --> 0.188021).  \n",
            "Epoch: 12 \tTraining Loss: 0.695392 \tValidation Loss: 0.179680\n",
            "This is the new minimum validation loss (0.188021 --> 0.179680).  \n",
            "Epoch: 13 \tTraining Loss: 0.619992 \tValidation Loss: 0.181050\n",
            "Epoch: 14 \tTraining Loss: 0.550513 \tValidation Loss: 0.159645\n",
            "This is the new minimum validation loss (0.179680 --> 0.159645).  \n",
            "Epoch: 15 \tTraining Loss: 0.479442 \tValidation Loss: 0.157024\n",
            "This is the new minimum validation loss (0.159645 --> 0.157024).  \n",
            "Epoch: 16 \tTraining Loss: 0.410822 \tValidation Loss: 0.156335\n",
            "This is the new minimum validation loss (0.157024 --> 0.156335).  \n",
            "Epoch: 17 \tTraining Loss: 0.334715 \tValidation Loss: 0.165712\n",
            "Epoch: 18 \tTraining Loss: 0.261816 \tValidation Loss: 0.167630\n",
            "Epoch: 19 \tTraining Loss: 0.199248 \tValidation Loss: 0.180690\n",
            "Epoch: 20 \tTraining Loss: 0.147671 \tValidation Loss: 0.194874\n",
            "Epoch: 21 \tTraining Loss: 0.107425 \tValidation Loss: 0.234726\n",
            "Epoch: 22 \tTraining Loss: 0.081485 \tValidation Loss: 0.225531\n",
            "Epoch: 23 \tTraining Loss: 0.065557 \tValidation Loss: 0.264253\n",
            "Epoch: 24 \tTraining Loss: 0.056940 \tValidation Loss: 0.256110\n",
            "Epoch: 25 \tTraining Loss: 0.045813 \tValidation Loss: 0.269356\n",
            "Epoch: 26 \tTraining Loss: 0.039488 \tValidation Loss: 0.278715\n",
            "Epoch: 27 \tTraining Loss: 0.032159 \tValidation Loss: 0.282012\n",
            "Epoch: 28 \tTraining Loss: 0.028857 \tValidation Loss: 0.296666\n",
            "Epoch: 29 \tTraining Loss: 0.024324 \tValidation Loss: 0.319007\n",
            "Epoch: 30 \tTraining Loss: 0.021260 \tValidation Loss: 0.329878\n",
            "Epoch: 31 \tTraining Loss: 0.023122 \tValidation Loss: 0.299389\n",
            "Finished Training\n",
            "time: 10min 47s (started: 2021-03-31 03:10:33 +00:00)\n"
          ],
          "name": "stdout"
        }
      ]
    },
    {
      "cell_type": "markdown",
      "metadata": {
        "id": "UsDsSPBW0fbR"
      },
      "source": [
        "Loading back in the saved model"
      ]
    },
    {
      "cell_type": "code",
      "metadata": {
        "colab": {
          "base_uri": "https://localhost:8080/"
        },
        "id": "9-YyxtkR0jKf",
        "outputId": "ab5ca2d4-41d5-47a1-ee98-367cb12cb201"
      },
      "source": [
        "net = Net()\n",
        "net.load_state_dict(torch.load(PATH))"
      ],
      "execution_count": null,
      "outputs": [
        {
          "output_type": "execute_result",
          "data": {
            "text/plain": [
              "<All keys matched successfully>"
            ]
          },
          "metadata": {
            "tags": []
          },
          "execution_count": 137
        },
        {
          "output_type": "stream",
          "text": [
            "time: 70.6 ms (started: 2021-03-31 03:21:44 +00:00)\n"
          ],
          "name": "stdout"
        }
      ]
    },
    {
      "cell_type": "markdown",
      "metadata": {
        "id": "a-npG9Kq5b4g"
      },
      "source": [
        "Testing the network on the test data"
      ]
    },
    {
      "cell_type": "code",
      "metadata": {
        "colab": {
          "base_uri": "https://localhost:8080/"
        },
        "id": "hCio45Is5apd",
        "outputId": "a6913642-a520-4038-9da6-54779712181b"
      },
      "source": [
        "# track test loss\n",
        "\n",
        "\n",
        "total_class = list(0. for i in range(10))\n",
        "testing_loss = 0.0\n",
        "correct_class = list(0. for i in range(10))\n",
        "net.eval()\n",
        "if device:\n",
        "            data, target = data.cuda(), target.cuda()\n",
        "# iterating over testing data\n",
        "for data, target in testloader:\n",
        "    \n",
        "    outputs = net(data)\n",
        "   \n",
        "    # calculating the batch wise loss\n",
        "    los = criterion(outputs, target)\n",
        "    # updating testing loss \n",
        "    testing_loss += los.item()*data.size(0)\n",
        "    \n",
        "    _, pred = torch.max(outputs, 1)    \n",
        "    \n",
        "    correct_ten = pred.eq(target.data.view_as(pred))\n",
        "    cor = np.squeeze(correct_tensor.numpy()) if not device else \n",
        "    np.squeeze(correct_ten.cpu().numpy())\n",
        "    \n",
        "    for i in range(batch):\n",
        "        label = target.data[i]\n",
        "        correct_class[label] += cor[i].item()\n",
        "        total_class[label] += 1\n",
        "\n",
        "# average test loss\n",
        "testing_loss = testing_loss/len(testloader.dataset)\n",
        "print('Testing Loss: {:.6f}\\n'.format(testing_loss))\n",
        "\n",
        "for i in range(10):\n",
        "  if total_class[i] > 0:\n",
        "    print('Testing Accuracy of %5s: %2d%% (%2d/%2d)' % (\n",
        "            classes[i], 100 * correct_class[i] / total_class[i],\n",
        "            np.sum(correct_class[i]), np.sum(total_class[i])))\n",
        "  else:\n",
        "    print('Testing Accuracy of ' % (classes[i]))\n",
        "\n",
        "print('\\nTest Accuracy (Overall): %2d%% (%2d/%2d)' % (\n",
        "    100. * np.sum(correct_class) / np.sum(total_class),\n",
        "    np.sum(correct_class), np.sum(total_class)))\n"
      ],
      "execution_count": null,
      "outputs": [
        {
          "output_type": "stream",
          "text": [
            "Testing Loss: 1.571604\n",
            "\n",
            "Testing Accuracy of plane: 79% (791/1000)\n",
            "Testing Accuracy of   car: 89% (892/1000)\n",
            "Testing Accuracy of  bird: 64% (645/1000)\n",
            "Testing Accuracy of   cat: 53% (538/1000)\n",
            "Testing Accuracy of  deer: 69% (690/1000)\n",
            "Testing Accuracy of   dog: 60% (608/1000)\n",
            "Testing Accuracy of  frog: 84% (848/1000)\n",
            "Testing Accuracy of horse: 80% (801/1000)\n",
            "Testing Accuracy of  ship: 83% (833/1000)\n",
            "Testing Accuracy of truck: 86% (862/1000)\n",
            "\n",
            "Test Accuracy (Overall): 75% (7508/10000)\n",
            "time: 47 s (started: 2021-03-31 03:21:52 +00:00)\n"
          ],
          "name": "stdout"
        }
      ]
    },
    {
      "cell_type": "markdown",
      "metadata": {
        "id": "ZWOkjOASX41g"
      },
      "source": [
        "Lets Plot the output to make it user friendly and viewable"
      ]
    },
    {
      "cell_type": "code",
      "metadata": {
        "colab": {
          "base_uri": "https://localhost:8080/",
          "height": 312
        },
        "id": "qRhr90JvYAlV",
        "outputId": "6d07a9f8-de7d-4548-fd7e-6d96851c1bcb"
      },
      "source": [
        "plt.plot(nepochs, training_losslist)\n",
        "plt.xlabel(\"Iteration\")\n",
        "plt.ylabel(\"Losses\")\n",
        "plt.title(\"Optimal Model Performance\")\n",
        "plt.show()"
      ],
      "execution_count": null,
      "outputs": [
        {
          "output_type": "display_data",
          "data": {
            "image/png": "[encoded data removed]",
            "text/plain": [
              "<Figure size 432x288 with 1 Axes>"
            ]
          },
          "metadata": {
            "tags": [],
            "needs_background": "light"
          }
        },
        {
          "output_type": "stream",
          "text": [
            "time: 130 ms (started: 2021-03-31 03:43:56 +00:00)\n"
          ],
          "name": "stdout"
        }
      ]
    }
  ]
}